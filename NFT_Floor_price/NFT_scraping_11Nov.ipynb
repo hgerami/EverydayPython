{
 "cells": [
  {
   "cell_type": "markdown",
   "metadata": {},
   "source": [
    "### Required Libraries:"
   ]
  },
  {
   "cell_type": "code",
   "execution_count": null,
   "metadata": {},
   "outputs": [],
   "source": [
    "from selenium import webdriver\n",
    "from selenium.webdriver.chrome.service import Service\n",
    "from webdriver_manager.chrome import ChromeDriverManager\n",
    "from selenium.webdriver.chrome.webdriver import WebDriver\n",
    "from selenium.webdriver.common.by import By\n",
    "from selenium.webdriver.support.ui import WebDriverWait\n",
    "from selenium.webdriver.support import expected_conditions as EC\n",
    "from selenium.common.exceptions import TimeoutException\n",
    "from selenium.common.exceptions import ElementNotSelectableException\n",
    "from selenium.common.exceptions import ElementNotInteractableException\n",
    "\n",
    "import time\n",
    "#import venue\n",
    "import pandas as pd\n",
    "s=Service(ChromeDriverManager().install())"
   ]
  },
  {
   "cell_type": "code",
   "execution_count": 2,
   "metadata": {},
   "outputs": [],
   "source": [
    "import bs4 as bs\n",
    "import datetime\n",
    "from datetime import datetime\n",
    "from datetime import date\n",
    "import email_sending as es\n",
    "import spac_to_db_funs as dbf"
   ]
  },
  {
   "cell_type": "markdown",
   "metadata": {},
   "source": [
    "### Introdcution of the page for extraction:"
   ]
  },
  {
   "cell_type": "code",
   "execution_count": 3,
   "metadata": {},
   "outputs": [],
   "source": [
    "driver =webdriver.Chrome(service=s)\n",
    "driver.get('https://nftpricefloor.com/')\n",
    "extracted_text = ''\n",
    "extracted_inner_html = ''\n",
    "extracted_number_of_pages = 0  "
   ]
  },
  {
   "cell_type": "markdown",
   "metadata": {},
   "source": [
    "### Function to perform the extraction "
   ]
  },
  {
   "cell_type": "code",
   "execution_count": 4,
   "metadata": {},
   "outputs": [],
   "source": [
    "#__next > div.container > main > div > table\n",
    "#__next > div.container > main > div > table > tbody\n",
    "def perform_extraction():\n",
    "    delay = 10 # seconds\n",
    "    try:       \n",
    "        target =  WebDriverWait(driver,delay).until(EC.presence_of_element_located((By.CSS_SELECTOR , \"#__next > div.container > main > div > table\")))\n",
    "\n",
    "    except TimeoutException:\n",
    "        print (\"Loading took too much time!, number of extracted pages: 0\")\n",
    "        \n",
    "    \n",
    "    return (target.text, target.get_attribute('innerHTML'))"
   ]
  },
  {
   "cell_type": "markdown",
   "metadata": {},
   "source": [
    "### Move the scroll bar so the new items get loaded"
   ]
  },
  {
   "cell_type": "code",
   "execution_count": 5,
   "metadata": {},
   "outputs": [],
   "source": [
    "for i in range(0, 10):\n",
    "    extracted_text = extracted_text + perform_extraction()[0]\n",
    "    extracted_inner_html = extracted_inner_html + perform_extraction()[1]\n",
    "    driver.execute_script(\"window.scrollBy(0, 500)\")\n",
    "    time.sleep(1)\n",
    "    i=i+1\n",
    "extracted_number_of_pages = extracted_number_of_pages +1"
   ]
  },
  {
   "cell_type": "markdown",
   "metadata": {},
   "source": [
    "### Function to organize the extracted info into rows, headers, image links and "
   ]
  },
  {
   "cell_type": "code",
   "execution_count": 6,
   "metadata": {},
   "outputs": [],
   "source": [
    "def rows_extractor(extracted_inner_html ):\n",
    "    data = []\n",
    "    soup = bs.BeautifulSoup(extracted_inner_html, \"html.parser\")\n",
    "    rows=soup.find_all('tr')\n",
    "    for row in rows:\n",
    "        cols = row.find_all('td')\n",
    "        cols = [ele.text.strip() for ele in cols]\n",
    "        #data.append([ele for ele in cols if ele]) # Get rid of empty values\n",
    "        \n",
    "        temp_list= [ele for ele in cols if ele] # Get rid of empty values\n",
    "        if temp_list not in data:\n",
    "            data.append(temp_list)\n",
    "            \n",
    "\n",
    "    return  data[1:]"
   ]
  },
  {
   "cell_type": "code",
   "execution_count": 7,
   "metadata": {},
   "outputs": [],
   "source": [
    "def img_extractor2(extracted_inner_html):\n",
    "    soup = bs.BeautifulSoup(extracted_inner_html, \"html.parser\")\n",
    "    rows_test=soup.find_all('tr')\n",
    "    images= []\n",
    "    for r in rows_test:\n",
    "        \n",
    "        try:\n",
    "            \n",
    "            tmp_name = r.find('a').find_all('img')[1]['src']\n",
    "            if 'data:image/' not in tmp_name:\n",
    "                tmp_image = 'https://nftpricefloor.com'+ tmp_name\n",
    "                if tmp_image not in images:\n",
    "                    images.append(tmp_image)\n",
    "        except:\n",
    "            pass\n",
    "    \n",
    "    return  images"
   ]
  },
  {
   "cell_type": "code",
   "execution_count": 8,
   "metadata": {},
   "outputs": [],
   "source": [
    "def headers_extractor(extracted_inner_html):\n",
    "    soup = bs.BeautifulSoup(extracted_inner_html, \"html.parser\")\n",
    "    rows=soup.find_all('tr')\n",
    "    \n",
    "    COLS = rows[0].find_all('th')\n",
    "    COLS = [ele.text.strip() for ele in COLS]\n",
    "    data_column =[]\n",
    "    data_column.append([ele for ele in COLS if ele])\n",
    "    \n",
    "    return data_column[0] "
   ]
  },
  {
   "cell_type": "code",
   "execution_count": 9,
   "metadata": {},
   "outputs": [],
   "source": [
    "delay = 10 # seconds\n",
    "button = WebDriverWait(driver,delay).until(EC.presence_of_element_located((By.CSS_SELECTOR , \"a[aria-label='Next page']\")))\n",
    "target = WebDriverWait(driver,delay).until(EC.visibility_of_element_located ((By.CSS_SELECTOR , \"#__next > div.container > main > div > table\")))"
   ]
  },
  {
   "cell_type": "code",
   "execution_count": 10,
   "metadata": {},
   "outputs": [],
   "source": [
    "if( button.is_enabled() and target.is_displayed()):\n",
    "    button.click()\n",
    "    time.sleep(2)\n",
    "else:\n",
    "    print('Button is not clickable anymore')"
   ]
  },
  {
   "cell_type": "markdown",
   "metadata": {},
   "source": [
    "### Move through all the pages:"
   ]
  },
  {
   "cell_type": "code",
   "execution_count": 11,
   "metadata": {},
   "outputs": [],
   "source": [
    "extraction_going_on = 1\n",
    "while extraction_going_on != 0:\n",
    "    \n",
    "    try:       \n",
    "\n",
    "        \n",
    "        for i in range(0, 11):\n",
    "            extracted_text = extracted_text + perform_extraction()[0]\n",
    "            extracted_inner_html = extracted_inner_html + perform_extraction()[1]\n",
    "            driver.execute_script(\"window.scrollBy(0, 500)\")\n",
    "            time.sleep(1)\n",
    "            i=i+1\n",
    "        extracted_number_of_pages = extracted_number_of_pages +1\n",
    "    except TimeoutException:\n",
    "        print (\"Loading took too much time!, number of extracted pages: ???\")\n",
    "        extraction_going_on = 0\n",
    "\n",
    "    if( extracted_number_of_pages!=10):\n",
    "        button.click()\n",
    "        time.sleep(2)\n",
    "    else:\n",
    "        #print('Button is not clickable anymore and extraction stoped')\n",
    "        #print('Number of extracted pages:')\n",
    "        #print(extracted_number_of_pages)\n",
    "        extraction_going_on = 0\n",
    "        #break"
   ]
  },
  {
   "cell_type": "code",
   "execution_count": 12,
   "metadata": {},
   "outputs": [],
   "source": [
    "rows = rows_extractor(extracted_inner_html ) "
   ]
  },
  {
   "cell_type": "code",
   "execution_count": 13,
   "metadata": {},
   "outputs": [],
   "source": [
    "COLS = headers_extractor(extracted_inner_html)"
   ]
  },
  {
   "cell_type": "code",
   "execution_count": 14,
   "metadata": {},
   "outputs": [],
   "source": [
    "images = img_extractor2(extracted_inner_html)"
   ]
  },
  {
   "cell_type": "markdown",
   "metadata": {},
   "source": [
    "### Storing the extracted data into list objects"
   ]
  },
  {
   "cell_type": "code",
   "execution_count": 15,
   "metadata": {},
   "outputs": [],
   "source": [
    "Id = [ int(elem[0])  for elem in rows]\n",
    "collectible = [ elem[1] for elem in rows]\n",
    "price_floor =  [ elem[2] for elem in rows]\n",
    "t4_pct = [ elem[3] for elem in rows ]\n",
    "vol_24 = [ elem[4] for elem in rows ]\n",
    "sales_24 = [ int(elem[5]) for elem in rows ]"
   ]
  },
  {
   "cell_type": "code",
   "execution_count": 16,
   "metadata": {},
   "outputs": [],
   "source": [
    "makrket_cap = [ elem[8] for elem in rows ] "
   ]
  },
  {
   "cell_type": "markdown",
   "metadata": {},
   "source": [
    "### Establish a Panda df from the extracted lists:"
   ]
  },
  {
   "cell_type": "code",
   "execution_count": 17,
   "metadata": {},
   "outputs": [],
   "source": [
    "df_collections = pd.DataFrame()"
   ]
  },
  {
   "cell_type": "code",
   "execution_count": 18,
   "metadata": {},
   "outputs": [],
   "source": [
    "try:\n",
    "    df_collections = pd.DataFrame( \n",
    "        {'created_date': datetime.now().strftime(\"%Y-%m-%d %H:%M:%S\"),\n",
    "         \"visible_id\": Id ,\n",
    "         'collection_name' : collectible,\n",
    "         'floor_price' : price_floor,\n",
    "         'volume' : vol_24,\n",
    "          'sales' : sales_24,\n",
    "         'mark_cap': makrket_cap,\n",
    "         'image_link' : images\n",
    "        })\n",
    "except:\n",
    "    subject = 'URGENT, NFT Extraction failed'\n",
    "    body = \"NFT Extraction failed, and datafarme couldn't be established, pls check the process\"\n",
    "    #es.send_mail('------@yahoo.com', '-------i@gmail.com', subject, body)\n",
    "    \n",
    "    "
   ]
  },
  {
   "cell_type": "markdown",
   "metadata": {},
   "source": [
    "### df datatype allocation, and text cleaning for better look:"
   ]
  },
  {
   "cell_type": "code",
   "execution_count": 19,
   "metadata": {},
   "outputs": [],
   "source": [
    "def string_to_number (txt, decimal=2):\n",
    "    txt = txt.replace(\",\", \"\")\n",
    "    if (decimal == 0):\n",
    "        return int (txt.split('ETH') [0]) \n",
    "    else:\n",
    "        return round( float (txt.split('ETH') [0]) , decimal )"
   ]
  },
  {
   "cell_type": "code",
   "execution_count": 20,
   "metadata": {},
   "outputs": [],
   "source": [
    "def string_to_int (txt):\n",
    "    txt = txt.replace(\",\", \"\")    \n",
    "    return int (txt.split('ETH') [0]) "
   ]
  },
  {
   "cell_type": "code",
   "execution_count": 21,
   "metadata": {},
   "outputs": [],
   "source": [
    "try:\n",
    "    df_collections.drop_duplicates( subset=\"collection_name\", keep='first', inplace= True,ignore_index = True)\n",
    "    df_collections['floor_price'] = df_collections['floor_price'].map(string_to_number)\n",
    "    df_collections['volume'] = df_collections['volume'].map(string_to_number)\n",
    "    df_collections['mark_cap'] = df_collections['mark_cap'].map(string_to_int)\n",
    "    df_collections['collection_name'] = df_collections['collection_name'].apply(dbf.chr_replacer)\n",
    "except:\n",
    "    subject = 'URGENT, NFT Dataframe editing failed'\n",
    "    body = \"NFT Dataframe couldn't be edited,  pls check the process\"\n",
    "    es.send_mail('------g@yahoo.com', '-------i@gmail.com', subject, body)\n",
    "    \n",
    "    "
   ]
  },
  {
   "cell_type": "code",
   "execution_count": null,
   "metadata": {},
   "outputs": [],
   "source": []
  },
  {
   "cell_type": "code",
   "execution_count": 23,
   "metadata": {},
   "outputs": [
    {
     "data": {
      "text/html": [
       "<div>\n",
       "<style scoped>\n",
       "    .dataframe tbody tr th:only-of-type {\n",
       "        vertical-align: middle;\n",
       "    }\n",
       "\n",
       "    .dataframe tbody tr th {\n",
       "        vertical-align: top;\n",
       "    }\n",
       "\n",
       "    .dataframe thead th {\n",
       "        text-align: right;\n",
       "    }\n",
       "</style>\n",
       "<table border=\"1\" class=\"dataframe\">\n",
       "  <thead>\n",
       "    <tr style=\"text-align: right;\">\n",
       "      <th></th>\n",
       "      <th>created_date</th>\n",
       "      <th>visible_id</th>\n",
       "      <th>collection_name</th>\n",
       "      <th>floor_price</th>\n",
       "      <th>volume</th>\n",
       "      <th>sales</th>\n",
       "      <th>mark_cap</th>\n",
       "      <th>image_link</th>\n",
       "    </tr>\n",
       "  </thead>\n",
       "  <tbody>\n",
       "    <tr>\n",
       "      <th>0</th>\n",
       "      <td>2022-11-11 12:35:00</td>\n",
       "      <td>1</td>\n",
       "      <td>CryptoPunks</td>\n",
       "      <td>66.00</td>\n",
       "      <td>499.52</td>\n",
       "      <td>7</td>\n",
       "      <td>660000</td>\n",
       "      <td>https://nftpricefloor.com/_next/image?url=http...</td>\n",
       "    </tr>\n",
       "    <tr>\n",
       "      <th>1</th>\n",
       "      <td>2022-11-11 12:35:00</td>\n",
       "      <td>2</td>\n",
       "      <td>Bored Ape Yacht Club</td>\n",
       "      <td>58.46</td>\n",
       "      <td>2197.60</td>\n",
       "      <td>33</td>\n",
       "      <td>584600</td>\n",
       "      <td>https://nftpricefloor.com/_next/image?url=http...</td>\n",
       "    </tr>\n",
       "    <tr>\n",
       "      <th>2</th>\n",
       "      <td>2022-11-11 12:35:00</td>\n",
       "      <td>3</td>\n",
       "      <td>The Sandbox</td>\n",
       "      <td>1.27</td>\n",
       "      <td>25.37</td>\n",
       "      <td>18</td>\n",
       "      <td>211216</td>\n",
       "      <td>https://nftpricefloor.com/_next/image?url=http...</td>\n",
       "    </tr>\n",
       "    <tr>\n",
       "      <th>3</th>\n",
       "      <td>2022-11-11 12:35:00</td>\n",
       "      <td>4</td>\n",
       "      <td>Mutant Ape Yacht Club</td>\n",
       "      <td>10.60</td>\n",
       "      <td>678.64</td>\n",
       "      <td>62</td>\n",
       "      <td>205905</td>\n",
       "      <td>https://nftpricefloor.com/_next/image?url=http...</td>\n",
       "    </tr>\n",
       "    <tr>\n",
       "      <th>4</th>\n",
       "      <td>2022-11-11 12:35:00</td>\n",
       "      <td>5</td>\n",
       "      <td>Autoglyphs</td>\n",
       "      <td>325.00</td>\n",
       "      <td>0.00</td>\n",
       "      <td>0</td>\n",
       "      <td>166400</td>\n",
       "      <td>https://nftpricefloor.com/_next/image?url=http...</td>\n",
       "    </tr>\n",
       "    <tr>\n",
       "      <th>...</th>\n",
       "      <td>...</td>\n",
       "      <td>...</td>\n",
       "      <td>...</td>\n",
       "      <td>...</td>\n",
       "      <td>...</td>\n",
       "      <td>...</td>\n",
       "      <td>...</td>\n",
       "      <td>...</td>\n",
       "    </tr>\n",
       "    <tr>\n",
       "      <th>483</th>\n",
       "      <td>2022-11-11 12:35:00</td>\n",
       "      <td>484</td>\n",
       "      <td>Laura_Dumitriu</td>\n",
       "      <td>0.02</td>\n",
       "      <td>0.08</td>\n",
       "      <td>3</td>\n",
       "      <td>27</td>\n",
       "      <td>https://nftpricefloor.com/_next/image?url=http...</td>\n",
       "    </tr>\n",
       "    <tr>\n",
       "      <th>484</th>\n",
       "      <td>2022-11-11 12:35:00</td>\n",
       "      <td>485</td>\n",
       "      <td>tirli</td>\n",
       "      <td>0.01</td>\n",
       "      <td>0.04</td>\n",
       "      <td>2</td>\n",
       "      <td>27</td>\n",
       "      <td>https://nftpricefloor.com/_next/image?url=http...</td>\n",
       "    </tr>\n",
       "    <tr>\n",
       "      <th>485</th>\n",
       "      <td>2022-11-11 12:35:00</td>\n",
       "      <td>486</td>\n",
       "      <td>eando9745</td>\n",
       "      <td>0.01</td>\n",
       "      <td>0.11</td>\n",
       "      <td>7</td>\n",
       "      <td>21</td>\n",
       "      <td>https://nftpricefloor.com/_next/image?url=http...</td>\n",
       "    </tr>\n",
       "    <tr>\n",
       "      <th>486</th>\n",
       "      <td>2022-11-11 12:35:00</td>\n",
       "      <td>487</td>\n",
       "      <td>oana193</td>\n",
       "      <td>0.01</td>\n",
       "      <td>0.38</td>\n",
       "      <td>2</td>\n",
       "      <td>20</td>\n",
       "      <td>https://nftpricefloor.com/_next/image?url=http...</td>\n",
       "    </tr>\n",
       "    <tr>\n",
       "      <th>487</th>\n",
       "      <td>2022-11-11 12:35:00</td>\n",
       "      <td>488</td>\n",
       "      <td>ENS Domains - Ethereum Name Service</td>\n",
       "      <td>0.00</td>\n",
       "      <td>302.24</td>\n",
       "      <td>3533</td>\n",
       "      <td>0</td>\n",
       "      <td>https://nftpricefloor.com/_next/image?url=http...</td>\n",
       "    </tr>\n",
       "  </tbody>\n",
       "</table>\n",
       "<p>488 rows × 8 columns</p>\n",
       "</div>"
      ],
      "text/plain": [
       "            created_date  visible_id                      collection_name  \\\n",
       "0    2022-11-11 12:35:00           1                          CryptoPunks   \n",
       "1    2022-11-11 12:35:00           2                 Bored Ape Yacht Club   \n",
       "2    2022-11-11 12:35:00           3                          The Sandbox   \n",
       "3    2022-11-11 12:35:00           4                Mutant Ape Yacht Club   \n",
       "4    2022-11-11 12:35:00           5                           Autoglyphs   \n",
       "..                   ...         ...                                  ...   \n",
       "483  2022-11-11 12:35:00         484                       Laura_Dumitriu   \n",
       "484  2022-11-11 12:35:00         485                                tirli   \n",
       "485  2022-11-11 12:35:00         486                            eando9745   \n",
       "486  2022-11-11 12:35:00         487                              oana193   \n",
       "487  2022-11-11 12:35:00         488  ENS Domains - Ethereum Name Service   \n",
       "\n",
       "     floor_price   volume  sales  mark_cap  \\\n",
       "0          66.00   499.52      7    660000   \n",
       "1          58.46  2197.60     33    584600   \n",
       "2           1.27    25.37     18    211216   \n",
       "3          10.60   678.64     62    205905   \n",
       "4         325.00     0.00      0    166400   \n",
       "..           ...      ...    ...       ...   \n",
       "483         0.02     0.08      3        27   \n",
       "484         0.01     0.04      2        27   \n",
       "485         0.01     0.11      7        21   \n",
       "486         0.01     0.38      2        20   \n",
       "487         0.00   302.24   3533         0   \n",
       "\n",
       "                                            image_link  \n",
       "0    https://nftpricefloor.com/_next/image?url=http...  \n",
       "1    https://nftpricefloor.com/_next/image?url=http...  \n",
       "2    https://nftpricefloor.com/_next/image?url=http...  \n",
       "3    https://nftpricefloor.com/_next/image?url=http...  \n",
       "4    https://nftpricefloor.com/_next/image?url=http...  \n",
       "..                                                 ...  \n",
       "483  https://nftpricefloor.com/_next/image?url=http...  \n",
       "484  https://nftpricefloor.com/_next/image?url=http...  \n",
       "485  https://nftpricefloor.com/_next/image?url=http...  \n",
       "486  https://nftpricefloor.com/_next/image?url=http...  \n",
       "487  https://nftpricefloor.com/_next/image?url=http...  \n",
       "\n",
       "[488 rows x 8 columns]"
      ]
     },
     "execution_count": 23,
     "metadata": {},
     "output_type": "execute_result"
    }
   ],
   "source": [
    "df_collections"
   ]
  },
  {
   "cell_type": "code",
   "execution_count": null,
   "metadata": {},
   "outputs": [],
   "source": []
  }
 ],
 "metadata": {
  "kernelspec": {
   "display_name": "Python 3 (ipykernel)",
   "language": "python",
   "name": "python3"
  },
  "language_info": {
   "codemirror_mode": {
    "name": "ipython",
    "version": 3
   },
   "file_extension": ".py",
   "mimetype": "text/x-python",
   "name": "python",
   "nbconvert_exporter": "python",
   "pygments_lexer": "ipython3",
   "version": "3.8.3"
  }
 },
 "nbformat": 4,
 "nbformat_minor": 4
}
